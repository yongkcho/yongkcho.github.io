{
 "cells": [
  {
   "cell_type": "markdown",
   "metadata": {},
   "source": [
    "# OOP  Exercise - Part 2\n",
    "\n",
    "객체를 인스턴스화하는 연습을 해 보았습니다. 이제는 직접 클래스를 작성해 보겠습니다.\n",
    "\n",
    "* Shirt 클래스와 아주 유사한 Pants 클래스를 작성해야 합니다. \n",
    "\n",
    "* 그다음 Pants 객체를 인스턴스화 해보겠습니다.\n",
    "\n",
    "* 두 번째 섹션에서는 SalesPerson이라는 다른 클래스를 작성하고, 인스턴스화해 보겠습니다."
   ]
  },
  {
   "cell_type": "markdown",
   "metadata": {},
   "source": [
    "# Pants class\n",
    "\n",
    "다음과 같은 특징이 있는 Pants Class를 만들어 봅시다:\n",
    "* 클래스명 : Pants\n",
    "* 클래스 속성 :\n",
    " * color\n",
    " * waist_size\n",
    " * length\n",
    " * price\n",
    "* 클래스는 모든 속성을 initialize해 주는 init function이 있어야 합니다. \n",
    "* 클래스는 다음 두 가지 메서드를 가지고 있어야 합니다. \n",
    " * change_price() price 속성을 변경해 주는 매서드\n",
    " * discount() 할인가를 계산해 주는 매서드"
   ]
  },
  {
   "cell_type": "code",
   "execution_count": 1,
   "metadata": {},
   "outputs": [],
   "source": [
    "# 다음과 같은 특징을 가진 Pants 클래스를 만들어 봅시다.\n",
    "#   - color (string) eg 'red', 'yellow', 'orange'\n",
    "#   - waist_size (integer) eg 8, 9, 10, 32, 33, 34\n",
    "#   - length (integer) eg 27, 28, 29, 30, 31\n",
    "#   - price (float) eg 9.28\n",
    "\n",
    "### Pants 클래스를 선언합니다.\n",
    "class Pants:\n",
    "    \n",
    "    ### 속성을 초기화 해 주는 __init__ function을 정의합니다. \n",
    "    def __init__(self, color, waist_size, length, price):\n",
    "        self.color = color \n",
    "        self.waist_size = waist_size\n",
    "        self.length = length\n",
    "        self.price = price\n",
    "        \n",
    "    # change_price method\n",
    "    # 속성 : new_price (float): the new price of the shirt\n",
    "    # 출력 : None\n",
    "    \n",
    "    def change_price(self, new_price):\n",
    "        self.price = new_price\n",
    "        \n",
    "    # discount method:\n",
    "    # 속성 : discount (float): 소수점으로 표현된 할인률 \n",
    "    # 출력 : float 형태의 할인된 가격\n",
    "    \n",
    "    def discount(self, percentage):\n",
    "        return self.price * (1 - percentage)"
   ]
  },
  {
   "cell_type": "markdown",
   "metadata": {},
   "source": [
    "# Run the code cell below to check results\n",
    "\n",
    "이제 unit test를 수행해 보겠습니다."
   ]
  },
  {
   "cell_type": "code",
   "execution_count": 2,
   "metadata": {},
   "outputs": [
    {
     "name": "stdout",
     "output_type": "stream",
     "text": [
      "You made it to the end of the check. Nice job!\n"
     ]
    }
   ],
   "source": [
    "def check_results():\n",
    "    pants = Pants('red', 35, 36, 15.12)\n",
    "    assert pants.color == 'red'\n",
    "    assert pants.waist_size == 35\n",
    "    assert pants.length == 36\n",
    "    assert pants.price == 15.12\n",
    "    \n",
    "    pants.change_price(10) == 10\n",
    "    assert pants.price == 10 \n",
    "    \n",
    "    assert pants.discount(.1) == 9\n",
    "    \n",
    "    print('You made it to the end of the check. Nice job!')\n",
    "\n",
    "check_results()"
   ]
  },
  {
   "cell_type": "markdown",
   "metadata": {},
   "source": [
    "# SalesPerson class\n",
    "\n",
    "Pants 클래스나 Shirt 클래스와 유사한 SalesPerson 클래스를 만들어 보겠습니다. \n",
    "\n",
    "다음과 같은 특징이 있는 SalesPerson Class를 만들어 봅시다:\n",
    "* 클래스 명 : SalesPerson\n",
    "* 클래스 속성 :\n",
    " * first_name \n",
    " * last_name\n",
    " * employee_id\n",
    " * salary\n",
    " * pants_sold\n",
    " * total_sales\n",
    "* 클래스는 모든 속성을 initialize해 주는 init function이 있어야 합니다. \n",
    "* 클래스는 다음 두 가지 메서드를 가지고 있어야 합니다. \n",
    " * sell_pants() price 속성을 변경해 주는 메서드 \n",
    " * calculate_sales() sales를 계산해 주는 메서드\n",
    " * display_sales() 팔린 pants를 보기 좋은 형태로 출력해 주는 메서드 \n",
    " * calculate_commission() salesperson의 commission을 계산해 주는 메서드"
   ]
  },
  {
   "cell_type": "code",
   "execution_count": 4,
   "metadata": {},
   "outputs": [],
   "source": [
    "class SalesPerson:\n",
    "    \"\"\"SalesPerson class는 가게에서 일하는 직원을 나타냅니다\n",
    "\n",
    "    \"\"\"\n",
    "\n",
    "    def __init__(self, first_name, last_name, employee_id, salary):\n",
    "        \"\"\"SalesPerson 객체를 초기화하기 위한 메서드입니다. \n",
    "        \n",
    "        Args: \n",
    "            first_name (str)\n",
    "            last_name (str)\n",
    "            employee_id (int)\n",
    "            salary (float)\n",
    "\n",
    "        Attributes:\n",
    "            first_name (str): first name of the employee\n",
    "            last_name (str): last name of the employee\n",
    "            employee_id (int): identification number of the employee\n",
    "            salary (float): yearly salary of the employee\n",
    "            pants_sold (list): a list of pants objects sold by the employee\n",
    "            total_sales (float): sum of all sales made by the employee\n",
    "\n",
    "        \"\"\"\n",
    "        self.first_name = first_name\n",
    "        self.last_name = last_name\n",
    "        self.employee_id = employee_id\n",
    "        self.salary = salary\n",
    "        self.pants_sold = []\n",
    "        self.total_sales = 0\n",
    "\n",
    "    def sell_pants(self, pants_object):\n",
    "        \"\"\"sell_pants메서드는 pants 객체와 pants_sold 속성을 붙이는 역할을 합니다.\n",
    "\n",
    "        Args: \n",
    "            pants_object (obj): a pants object that was sold\n",
    "\n",
    "        Returns: None\n",
    "\n",
    "        \"\"\"\n",
    "\n",
    "        self.pants_sold.append(pants_object)\n",
    "\n",
    "    def display_sales(self):\n",
    "        \"\"\" display_sales메서드는 팔린 pants를 모두 출력합니다. \n",
    "\n",
    "        Args: None\n",
    "\n",
    "        Returns: None\n",
    "\n",
    "        \"\"\"\n",
    "\n",
    "        for pants in self.pants_sold:\n",
    "            print('color: {}, waist_size: {}, length: {}, price: {}'\\\n",
    "                  .format(pants.color, pants.waist_size, pants.length, pants.price))\n",
    "    \n",
    "    def calculate_sales(self):\n",
    "        \"\"\"The calculate_sales메서드는 팔린 바지의 price 합을 계산합니다.\n",
    "\n",
    "        Args: None\n",
    "\n",
    "        Returns:\n",
    "            float: sum of the price for all pants sold\n",
    "        \n",
    "        \"\"\"\n",
    "\n",
    "        total = 0\n",
    "        for pants in self.pants_sold:\n",
    "            total += pants.price\n",
    "            \n",
    "        self.total_sales = total\n",
    "        \n",
    "        return total\n",
    "    \n",
    "    def calculate_commission(self, percentage):\n",
    "        \"\"\"calculate_commission 메서드는 판매에 비례해 최종 커미션을 계산합니다. \n",
    "\n",
    "        Args:\n",
    "            percentage (float): the commission percentage as a decimal\n",
    "\n",
    "        Returns:\n",
    "            float: the commission due\n",
    "        \"\"\"\n",
    "\n",
    "        sales_total = self.calculate_sales()\n",
    "        return sales_total * percentage "
   ]
  },
  {
   "cell_type": "markdown",
   "metadata": {},
   "source": [
    "# Run the code cell below to check results\n",
    "\n",
    "다음의 코드를 바탕으로 맞게 했는지 unit test를 실행해 보겠습니다."
   ]
  },
  {
   "cell_type": "code",
   "execution_count": 5,
   "metadata": {},
   "outputs": [
    {
     "name": "stdout",
     "output_type": "stream",
     "text": [
      "Great job, you made it to the end of the code checks!\n"
     ]
    }
   ],
   "source": [
    "def check_results():\n",
    "    pants_one = Pants('red', 35, 36, 15.12)\n",
    "    pants_two = Pants('blue', 40, 38, 24.12)\n",
    "    pants_three = Pants('tan', 28, 30, 8.12)\n",
    "    \n",
    "    salesperson = SalesPerson('Amy', 'Gonzalez', 2581923, 40000)\n",
    "    \n",
    "    assert salesperson.first_name == 'Amy'\n",
    "    assert salesperson.last_name == 'Gonzalez'\n",
    "    assert salesperson.employee_id == 2581923\n",
    "    assert salesperson.salary == 40000\n",
    "    assert salesperson.pants_sold == []\n",
    "    assert salesperson.total_sales == 0\n",
    "    \n",
    "    salesperson.sell_pants(pants_one)\n",
    "    salesperson.pants_sold[0] == pants_one.color\n",
    "    \n",
    "    salesperson.sell_pants(pants_two)\n",
    "    salesperson.sell_pants(pants_three)\n",
    "    \n",
    "    assert len(salesperson.pants_sold) == 3\n",
    "    assert round(salesperson.calculate_sales(),2) == 47.36\n",
    "    assert round(salesperson.calculate_commission(.1),2) == 4.74\n",
    "    \n",
    "    print('Great job, you made it to the end of the code checks!')\n",
    "    \n",
    "check_results()"
   ]
  },
  {
   "cell_type": "markdown",
   "metadata": {},
   "source": [
    "### Check display_sales() method\n",
    "\n",
    "이제 다음과 같은 결과를 얻기 위해 display_slaes 메서드를 사용해 보겠습니다.\n",
    "\n",
    "```python\n",
    "color: red, waist_size: 35, length: 36, price: 15.12\n",
    "color: blue, waist_size: 40, length: 38, price: 24.12\n",
    "color: tan, waist_size: 28, length: 30, price: 8.12\n",
    "```"
   ]
  },
  {
   "cell_type": "code",
   "execution_count": 6,
   "metadata": {},
   "outputs": [
    {
     "name": "stdout",
     "output_type": "stream",
     "text": [
      "color: red, waist_size: 35, length: 36, price: 15.12\n",
      "color: blue, waist_size: 40, length: 38, price: 24.12\n",
      "color: tan, waist_size: 28, length: 30, price: 8.12\n"
     ]
    }
   ],
   "source": [
    "pants_one = Pants('red', 35, 36, 15.12)\n",
    "pants_two = Pants('blue', 40, 38, 24.12)\n",
    "pants_three = Pants('tan', 28, 30, 8.12)\n",
    "\n",
    "salesperson = SalesPerson('Amy', 'Gonzalez', 2581923, 40000)\n",
    "\n",
    "salesperson.sell_pants(pants_one)    \n",
    "salesperson.sell_pants(pants_two)\n",
    "salesperson.sell_pants(pants_three)\n",
    "\n",
    "salesperson.display_sales()"
   ]
  }
 ],
 "metadata": {
  "kernelspec": {
   "display_name": "Python 3",
   "language": "python",
   "name": "python3"
  },
  "language_info": {
   "codemirror_mode": {
    "name": "ipython",
    "version": 3
   },
   "file_extension": ".py",
   "mimetype": "text/x-python",
   "name": "python",
   "nbconvert_exporter": "python",
   "pygments_lexer": "ipython3",
   "version": "3.7.6"
  }
 },
 "nbformat": 4,
 "nbformat_minor": 2
}
