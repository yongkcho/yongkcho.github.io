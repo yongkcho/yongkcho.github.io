{
 "cells": [
  {
   "cell_type": "markdown",
   "metadata": {},
   "source": [
    "# OOP  Exercise - Part 1\n",
    "\n",
    "\n",
    "# Shirt Class 만들어 보기 \n",
    "\n",
    "클래스가 어떻게 구성되어야 하는지와 객체를 인스턴스화하는 방법을 보았습니다. \n",
    "\n",
    "이제 Shirt 클래스를 인스턴스화 하는 코드를 작성해 보겠습니다."
   ]
  },
  {
   "cell_type": "code",
   "execution_count": 1,
   "metadata": {},
   "outputs": [],
   "source": [
    "class Shirt:\n",
    "\n",
    "    def __init__(self, shirt_color, shirt_size, shirt_style, shirt_price):\n",
    "        self.color = shirt_color\n",
    "        self.size = shirt_size\n",
    "        self.style = shirt_style\n",
    "        self.price = shirt_price\n",
    "    \n",
    "    def change_price(self, new_price):\n",
    "    \n",
    "        self.price = new_price\n",
    "        \n",
    "    def discount(self, discount):\n",
    "\n",
    "        return self.price * (1 - discount)"
   ]
  },
  {
   "cell_type": "code",
   "execution_count": 2,
   "metadata": {},
   "outputs": [],
   "source": [
    "#  color red, size S, style long-sleeve, price 25의 특성을 가진 shirt class를 인스턴스화 해보겠습니다.\n",
    "\n",
    "shirt_one = Shirt(shirt_color = \"red\", shirt_size = \"S\", shirt_style = \"long-sleeve\", shirt_price = 25)"
   ]
  },
  {
   "cell_type": "code",
   "execution_count": 3,
   "metadata": {},
   "outputs": [
    {
     "name": "stdout",
     "output_type": "stream",
     "text": [
      "25\n",
      "10\n",
      "8.8\n"
     ]
    }
   ],
   "source": [
    "# 제대로 인스턴스화가 되었는지 살펴보기 위해 한 속성을 살펴봅시다.\n",
    "print(shirt_one.price)\n",
    "\n",
    "# 메서드는 잘 작동할까요?\n",
    "shirt_one.change_price(10)\n",
    "print(shirt_one.price)\n",
    "print(shirt_one.discount(.12))"
   ]
  },
  {
   "cell_type": "code",
   "execution_count": 4,
   "metadata": {},
   "outputs": [],
   "source": [
    "# 이번에는 color orange, size L, style short-sleeve, price 10을 속성으로 가지는 클래스를 만들어 보겠습니다.\n",
    "\n",
    "shirt_two = Shirt(shirt_color = \"orange\", shirt_size = \"L\", shirt_style = \"short-sleeve\", shirt_price = 10)"
   ]
  },
  {
   "cell_type": "code",
   "execution_count": 5,
   "metadata": {},
   "outputs": [],
   "source": [
    "# 두 인스턴스의 price를 가지고 total cost를 계산해 볼 수도 있습니다.\n",
    "\n",
    "total = shirt_one.price + shirt_two.price"
   ]
  },
  {
   "cell_type": "code",
   "execution_count": 6,
   "metadata": {},
   "outputs": [],
   "source": [
    "# discount 매서드를 사용한 뒤에 값을 계산하는 것 역시 가능합니다.\n",
    "\n",
    "total_discount = shirt_one.discount(.14) + shirt_two.discount(.06)"
   ]
  }
 ],
 "metadata": {
  "kernelspec": {
   "display_name": "Python 3",
   "language": "python",
   "name": "python3"
  },
  "language_info": {
   "codemirror_mode": {
    "name": "ipython",
    "version": 3
   },
   "file_extension": ".py",
   "mimetype": "text/x-python",
   "name": "python",
   "nbconvert_exporter": "python",
   "pygments_lexer": "ipython3",
   "version": "3.7.6"
  }
 },
 "nbformat": 4,
 "nbformat_minor": 2
}
