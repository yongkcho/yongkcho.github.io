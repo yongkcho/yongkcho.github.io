{
 "cells": [
  {
   "cell_type": "markdown",
   "metadata": {},
   "source": [
    "# 셀에서 작업하기  \n",
    "<br>\n",
    "\n",
    "코드셀에서 작업하는 간단한 튜토리얼입니다.\n",
    "\n",
    "<br>\n",
    "\n",
    "아래의 셀을 실행해 봅시다. 위의 'Cell'을 입력해 'Run Cell'을 할수도 있겠지만 번거롭습니다. 간단히 **Shift + Enter** 를 눌러 셀을 실행시킬 수 있습니다."
   ]
  },
  {
   "cell_type": "code",
   "execution_count": 1,
   "metadata": {},
   "outputs": [
    {
     "data": {
      "text/plain": [
       "9"
      ]
     },
     "execution_count": 1,
     "metadata": {},
     "output_type": "execute_result"
    }
   ],
   "source": [
    "# 셀을 선택하고, Shift + Enter를 눌러주세요\n",
    "3**2"
   ]
  },
  {
   "cell_type": "markdown",
   "metadata": {},
   "source": [
    "Shift + Enter은 코드를 실행시켜 주지만, 자동으로 다음 셀로 이동하게 됩니다. 만약 작업을 실행한 셀에 머무르고 싶다면  **Control + Enter** 을 누르면 됩니다.\n",
    "\n",
    "<br>\n",
    "\n",
    "해당 셀의 결과물은 밑에 나탙납니다. 이 결과물은 셀에 있는 코드가 모두 실행된 뒤에 출력되는 것입니다. 만약, 중간 중간의 결과도 확인하고 싶다면 **print( )** 을 사용할 수 있습니다."
   ]
  },
  {
   "cell_type": "code",
   "execution_count": 2,
   "metadata": {},
   "outputs": [
    {
     "data": {
      "text/plain": [
       "16"
      ]
     },
     "execution_count": 2,
     "metadata": {},
     "output_type": "execute_result"
    }
   ],
   "source": [
    "3**2\n",
    "4**2"
   ]
  },
  {
   "cell_type": "code",
   "execution_count": 3,
   "metadata": {},
   "outputs": [
    {
     "name": "stdout",
     "output_type": "stream",
     "text": [
      "9\n"
     ]
    },
    {
     "data": {
      "text/plain": [
       "16"
      ]
     },
     "execution_count": 3,
     "metadata": {},
     "output_type": "execute_result"
    }
   ],
   "source": [
    "print(3**2)\n",
    "4**2"
   ]
  },
  {
   "cell_type": "markdown",
   "metadata": {},
   "source": [
    "이제 변수에 값을 할당해 보겠습니다."
   ]
  },
  {
   "cell_type": "code",
   "execution_count": 9,
   "metadata": {},
   "outputs": [],
   "source": [
    "mindset = 'growth'"
   ]
  },
  {
   "cell_type": "markdown",
   "metadata": {},
   "source": [
    "아무런 결과물도 산출되지 않습니다. **growth**는 **mindset**이라는 변수에 할당되었습니다. 모든 변수, 함수 그리고 클래스는 정의된 이후 다른 셀에서 사용할 수 있습니다.\n",
    "\n",
    "<br>\n",
    "\n",
    "그럼 다음 셀의 결과물은 무엇일까요?"
   ]
  },
  {
   "cell_type": "code",
   "execution_count": 10,
   "metadata": {},
   "outputs": [
    {
     "data": {
      "text/plain": [
       "'grow'"
      ]
     },
     "execution_count": 10,
     "metadata": {},
     "output_type": "execute_result"
    }
   ],
   "source": [
    "mindset[:4]"
   ]
  },
  {
   "cell_type": "markdown",
   "metadata": {},
   "source": [
    "## 단축키(Code completion)\n",
    "\n",
    "<br>\n",
    "\n",
    "코드를 작성할 때, 변수나 함수를 단축키만 사용해 입력할 수 있습니다. 해당 변수/함수의 일부를 입력한 뒤 **tab**을 누르면 됩니다. \n",
    "\n",
    "> **테스트:** **mind**뒤에 커서를 두고 tab을 눌러봅시다."
   ]
  },
  {
   "cell_type": "code",
   "execution_count": 11,
   "metadata": {},
   "outputs": [
    {
     "ename": "NameError",
     "evalue": "name 'mind' is not defined",
     "output_type": "error",
     "traceback": [
      "\u001b[1;31m---------------------------------------------------------------------------\u001b[0m",
      "\u001b[1;31mNameError\u001b[0m                                 Traceback (most recent call last)",
      "\u001b[1;32m<ipython-input-11-218de8f1f270>\u001b[0m in \u001b[0;36m<module>\u001b[1;34m\u001b[0m\n\u001b[1;32m----> 1\u001b[1;33m \u001b[0mmind\u001b[0m\u001b[1;33m\u001b[0m\u001b[1;33m\u001b[0m\u001b[0m\n\u001b[0m",
      "\u001b[1;31mNameError\u001b[0m: name 'mind' is not defined"
     ]
    }
   ],
   "source": [
    "mind"
   ]
  },
  {
   "cell_type": "markdown",
   "metadata": {},
   "source": [
    "만약에 mind로 시작하는 변수가 여러개 있다면, **tab**을 눌렀을 때 드롭다운 메뉴가 나타나게 됩니다."
   ]
  },
  {
   "cell_type": "code",
   "execution_count": 12,
   "metadata": {},
   "outputs": [],
   "source": [
    "# mindful이라는 새로운 변수를 만들어봅시다.\n",
    "mindful = True"
   ]
  },
  {
   "cell_type": "code",
   "execution_count": 8,
   "metadata": {},
   "outputs": [
    {
     "ename": "NameError",
     "evalue": "name 'mindfuld' is not defined",
     "output_type": "error",
     "traceback": [
      "\u001b[1;31m---------------------------------------------------------------------------\u001b[0m",
      "\u001b[1;31mNameError\u001b[0m                                 Traceback (most recent call last)",
      "\u001b[1;32m<ipython-input-8-ca5667ea840a>\u001b[0m in \u001b[0;36m<module>\u001b[1;34m\u001b[0m\n\u001b[0;32m      1\u001b[0m \u001b[1;31m# Complete the name here again, choose one from the menu\u001b[0m\u001b[1;33m\u001b[0m\u001b[1;33m\u001b[0m\u001b[1;33m\u001b[0m\u001b[0m\n\u001b[1;32m----> 2\u001b[1;33m \u001b[0mmindfuld\u001b[0m\u001b[1;33m\u001b[0m\u001b[1;33m\u001b[0m\u001b[0m\n\u001b[0m",
      "\u001b[1;31mNameError\u001b[0m: name 'mindfuld' is not defined"
     ]
    }
   ],
   "source": [
    "# mind의 마지막에서 tab을 누르면 드롭다운 메뉴가 나타납니다.\n",
    "mind"
   ]
  },
  {
   "cell_type": "markdown",
   "metadata": {},
   "source": [
    "단축키를 활용하는 것은 패키지를 사용할 때 특정 함수명이 생각나지 않을 때도 유용합니다. [random](https://docs.python.org/3/library/random.html)을 통해 이를 알아봅시다. 이 모듈은 임의의 숫자를 만들어내게 해 주며, 페이크 데이터나 데이터에서 임의의 내용을 추출할 때 유용합니다."
   ]
  },
  {
   "cell_type": "code",
   "execution_count": 13,
   "metadata": {},
   "outputs": [],
   "source": [
    "# Run this\n",
    "import random"
   ]
  },
  {
   "cell_type": "markdown",
   "metadata": {},
   "source": [
    "> **테스트:** 아래의 셀에서, 커서를 **random.** 다음에 둡시다. 그리고 **tab**을 눌러 단축키 메뉴를 확인해 봅시다. 그 중, **random.randint**을 리스트에서 선택합니다. 방향키를 바탕으로 이동할 수 있습니다."
   ]
  },
  {
   "cell_type": "code",
   "execution_count": 12,
   "metadata": {},
   "outputs": [
    {
     "ename": "SyntaxError",
     "evalue": "invalid syntax (<ipython-input-12-0c7f03c0a7e2>, line 1)",
     "output_type": "error",
     "traceback": [
      "\u001b[1;36m  File \u001b[1;32m\"<ipython-input-12-0c7f03c0a7e2>\"\u001b[1;36m, line \u001b[1;32m1\u001b[0m\n\u001b[1;33m    random.\u001b[0m\n\u001b[1;37m           ^\u001b[0m\n\u001b[1;31mSyntaxError\u001b[0m\u001b[1;31m:\u001b[0m invalid syntax\n"
     ]
    }
   ],
   "source": [
    "random."
   ]
  },
  {
   "cell_type": "markdown",
   "metadata": {},
   "source": [
    "## Tooltips\n",
    "\n",
    "**tab**을 눌러 확인한 리스트 중 *random.gauss*가 있었습니다. 다음 [문서](https://docs.python.org/3/library/random.html)를 통해 확인하거나, notebook 내에서 해당 기능을 확인해 볼 수 있습니다.\n",
    "\n",
    "> **테스트:** 커서를 **random.gauss** 다음에 두고  **shift + tab** 을 입력해기능을 확인해 봅시다."
   ]
  },
  {
   "cell_type": "code",
   "execution_count": 17,
   "metadata": {},
   "outputs": [
    {
     "data": {
      "text/plain": [
       "<bound method Random.gauss of <random.Random object at 0x00000233A20B1F48>>"
      ]
     },
     "execution_count": 17,
     "metadata": {},
     "output_type": "execute_result"
    }
   ],
   "source": [
    "random.gauss"
   ]
  },
  {
   "cell_type": "markdown",
   "metadata": {},
   "source": [
    "아래와 같은 결과물이 출력될 것입니다:\n",
    "\n",
    "    Signature: random.gauss(mu, sigma)\n",
    "    Docstring:\n",
    "    Gaussian distribution.\n",
    "    \n",
    "The function takes two arguments, `mu` and `sigma`. These are the standard symbols for the mean and the standard deviation, respectively, of the Gaussian distribution. Maybe you're not familiar with this though, and you need to know what the parameters actually mean. This will happen often, you'll find some function, but you need more information. You can show more information by pressing **shift + tab** twice.\n",
    "\n",
    "> **테스트:** 아래 셀에서 gauss뒤에 커서를 둔 다음 **shift + tab** 을 두번 눌러봅시다."
   ]
  },
  {
   "cell_type": "code",
   "execution_count": null,
   "metadata": {},
   "outputs": [],
   "source": [
    "random.gauss"
   ]
  },
  {
   "cell_type": "markdown",
   "metadata": {},
   "source": [
    "아마 다음과 같은 화면이 뜰 것입니다\n",
    "\n",
    "    Signature: random.gauss(mu, sigma)\n",
    "    Docstring:\n",
    "    Gaussian distribution.\n",
    "    \n",
    "        mu is the mean, and sigma is the standard deviation.  This is slightly faster than the normalvariate() function.\n",
    "\n",
    "    Not thread-safe without a lock around calls.\n",
    "    Type:      method"
   ]
  }
 ],
 "metadata": {
  "anaconda-cloud": {},
  "kernelspec": {
   "display_name": "Python 3",
   "language": "python",
   "name": "python3"
  },
  "language_info": {
   "codemirror_mode": {
    "name": "ipython",
    "version": 3
   },
   "file_extension": ".py",
   "mimetype": "text/x-python",
   "name": "python",
   "nbconvert_exporter": "python",
   "pygments_lexer": "ipython3",
   "version": "3.7.3"
  }
 },
 "nbformat": 4,
 "nbformat_minor": 1
}
