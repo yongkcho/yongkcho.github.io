{
 "cells": [
  {
   "cell_type": "markdown",
   "metadata": {
    "collapsed": true
   },
   "source": [
    "# 키보드 단축키\n",
    "\n",
    "notebook을 사용하는 데 유용한 몇 가지의 단축키를 소개하고자 합니다. \n",
    "\n",
    "가장 첫번째로 수정 모드(edit mode)와 실행 모드(command mode)를 변경하는 것입니다. 수정모드에서는 셀 내에서 코드를 입력할 수 있게 해 주고, 실행 모드는 새로운 셀을 만들거나 커맨드 팔레트를 열 수 있게 도와줍니다.\n",
    "\n",
    "셀을 선택할 때, 우리는 박스의 색을 보고 어떤 셀이 선택되어 있는지를 확인할 수 있습니다. 수정 모드에서는 박스의 왼쪽 부분이 **녹색**으로 표시되고, 커서가 깜빡이는 것을 확인할 수 있습니다. 실행 모드에서는 **푸른색**으로 변합니다.\n",
    "\n",
    "새로운 셀을 만들고 다음 셀로 넘어가면 기본적으로 실행 모드에 들어가게 됩니다. 수정 모드에 들어가기 위해서는 Enter/Return를 눌어야 합니다. 수정모드에서 실행모드로 이동하기 위해서는 ESC를 눌러야 합니다. \n",
    "\n",
    "> **실습하기:** 셀을 클릭하고 **Enter + Shift**를 눌러 다음 셀에 이동해 봅시다. 수정모드와 실행모드를 전환해 보세요."
   ]
  },
  {
   "cell_type": "code",
   "execution_count": 1,
   "metadata": {},
   "outputs": [],
   "source": [
    "# 연습하기"
   ]
  },
  {
   "cell_type": "markdown",
   "metadata": {},
   "source": [
    "## 단축키 살펴보기\n",
    "\n",
    "단축키를 살펴보고 싶다면, 실행 모드에서 **h**를 눌러보세요. 툴박스에서 'Help'를 눌러도 해결 가능합니다. "
   ]
  },
  {
   "cell_type": "markdown",
   "metadata": {},
   "source": [
    "## 새로운 셀 만들기\n",
    "\n",
    "가장 많이 쓰는 명령어는 새로운 셀을 만드는 것입니다. 실행 모드에서 **a**를 눌러 현재 셀 위에 새로운 셀을 만들 수 있습니다. **b**를 누른다면 현재 셀 바로 밑에 새로운 셀을 만들어 줍니다."
   ]
  },
  {
   "cell_type": "markdown",
   "metadata": {},
   "source": [
    "> **실습하기:** 이 셀 위에 새로운 셀을 만들어보세요."
   ]
  },
  {
   "cell_type": "markdown",
   "metadata": {},
   "source": [
    "> **실습하기:** 이 셀 아래에 새로운 셀을 만들어보세요."
   ]
  },
  {
   "cell_type": "markdown",
   "metadata": {},
   "source": [
    "## 마크다운과 코드 전환하기\n",
    "\n",
    "키보드 단축키를 이용해 Markdown 과 code cells을 전환하는 것도 가능합니다. Markdown을 code cell로 바꾸려면 **y**를, 반대의 경우에는 **m**을 누르면 됩니다.\n",
    "\n",
    "> **실습하기:** 아래의 코드를 Markdown과 code cell로 전환시켜 보세요."
   ]
  },
  {
   "cell_type": "code",
   "execution_count": null,
   "metadata": {
    "collapsed": true
   },
   "outputs": [],
   "source": [
    "## 실습하기\n",
    "\n",
    "def fibo(n): # 피보나치 수열 (재귀함수)\n",
    "    if n == 0:\n",
    "        return 0\n",
    "    elif n == 1:\n",
    "        return 1\n",
    "    return fibo(n-1) + fibo(n-2)"
   ]
  },
  {
   "cell_type": "markdown",
   "metadata": {},
   "source": [
    "## 행 숫자 표시하기\n",
    "\n",
    "코드셀에서 몇 번쨰 행인지 찾아보는 것이 필요하는 것은 매우 유용할 수 있습니다. 이때는 간단히 **L**을 눌러 표시해 볼 수 있습니다.\n",
    "\n",
    "> **실습하기:** 위의 코드에서 L을 눌러 라인을 표시해 보세요."
   ]
  },
  {
   "cell_type": "markdown",
   "metadata": {},
   "source": [
    "## Deleting cells\n",
    "\n",
    "셀을 삭제할 때는 'd'를 두번 누르면 됩니다.\n",
    "\n",
    "> **실습하기:** 아래의 셀을 삭제해 봅시다."
   ]
  },
  {
   "cell_type": "code",
   "execution_count": null,
   "metadata": {
    "collapsed": true
   },
   "outputs": [],
   "source": [
    "# 삭제해 주세요"
   ]
  },
  {
   "cell_type": "markdown",
   "metadata": {},
   "source": [
    "## notebook 저장하기\n",
    "\n",
    "notebook은 스스로 자동저장하나, 직접 저장하는 것이 현재의 상태를 가장 잘 보존할 수 있습니다. 저장하기 위해서는 **s**를 누르면 됩니다."
   ]
  },
  {
   "cell_type": "markdown",
   "metadata": {},
   "source": [
    "## 커맨드 팔레트\n",
    "\n",
    "**Shift + Control/Command + p** 를 눌러 팔레트 모드로 이동할 수 있습니다.\n",
    "\n",
    "> **Note:** 이 명령어는 파이어폭스에서는 실행되지 않습니다. 크롬과 사파리에서만 실행 가능합니다.  \n",
    "\n",
    "커맨드 팔레트를 불러옴으로서 우리는 필요한 단축키를 찾아볼 수 있습니다. 예를 들어 셀을 위, 아래로 옮기고 싶을 수 있지만, 이를 제공하는 단축키는 없습니다. 대신에 커맨드 팔레트의 'move'를 이용해 해당 기능을 실행해 볼 수 있습니다.\n",
    "\n",
    "> **실습하기:** 커맨드 팔레트를 활용해 아래 셀의 위치를 이동해 봅시다."
   ]
  },
  {
   "cell_type": "code",
   "execution_count": null,
   "metadata": {
    "collapsed": true
   },
   "outputs": [],
   "source": [
    "# 이 셀을 이동시켜 봅시다."
   ]
  },
  {
   "cell_type": "code",
   "execution_count": null,
   "metadata": {
    "collapsed": true
   },
   "outputs": [],
   "source": [
    "# 이 셀 밑으로 이동시켜 주세요."
   ]
  },
  {
   "cell_type": "markdown",
   "metadata": {},
   "source": [
    "## 마치며\n",
    "\n",
    "notebook에는 복사, 잘라내기, 붙여넣기 등의 다양한 기능이 있습니다. Jupyter를 사용하면서 더 필요한 기능들을 살펴봅시다. 나중에는 프로 프로그래머처럼 키보드에서 손을 떼지 않아도 될지도 모릅니다."
   ]
  }
 ],
 "metadata": {
  "anaconda-cloud": {},
  "kernelspec": {
   "display_name": "Python 3",
   "language": "python",
   "name": "python3"
  },
  "language_info": {
   "codemirror_mode": {
    "name": "ipython",
    "version": 3
   },
   "file_extension": ".py",
   "mimetype": "text/x-python",
   "name": "python",
   "nbconvert_exporter": "python",
   "pygments_lexer": "ipython3",
   "version": "3.7.3"
  }
 },
 "nbformat": 4,
 "nbformat_minor": 1
}
